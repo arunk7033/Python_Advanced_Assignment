{
 "cells": [
  {
   "cell_type": "markdown",
   "id": "0cdc6190-882a-4b8e-ae89-dfda87c34f0a",
   "metadata": {},
   "source": [
    "## Assignment_10"
   ]
  },
  {
   "cell_type": "code",
   "execution_count": null,
   "id": "c2afa538-47c9-4880-9719-d3c3ca1b956e",
   "metadata": {},
   "outputs": [],
   "source": [
    "Q1. What is the difference between __getattr__ and __getattribute__?"
   ]
  },
  {
   "cell_type": "code",
   "execution_count": null,
   "id": "f2605c40-a992-41ef-80a9-7025cc24405b",
   "metadata": {},
   "outputs": [],
   "source": [
    "#Solution:\n",
    "In Python, both __getattr__ and __getattribute__ are special methods that allow us to customize attribute access for objects. However, there is a key difference between the two:\n",
    "\n",
    "1. __getattr__:\n",
    "This method is invoked when the requested attribute is not found using the usual methods (i.e., it's not an instance attribute or a method). It is called only when the attribute is not present, and it provides a way to dynamically generate or fetch attributes that are not explicitly defined.\n",
    "\n",
    "class Example:\n",
    "    def __getattr__(self, name):\n",
    "        # This method is called when the attribute 'name' is not found\n",
    "        return f\"Attribute '{name}' not found.\"\n",
    "\n",
    "If an attempt is made to access an attribute that is not present, __getattr__ is called.\n",
    "\n",
    "2. __getattribute__:\n",
    "This method is called every time an attribute is accessed, regardless of whether the attribute exists or not. It is a more general and powerful method, but it should be used with caution. If we override __getattribute__, it will be called for every attribute access, including the built-in ones. This can potentially lead to infinite recursion if not handled carefully.\n",
    "\n",
    "class Example:\n",
    "    def __getattribute__(self, name):\n",
    "        # This method is called for every attribute access\n",
    "        return super().__getattribute__(name)\n",
    "\n",
    "Using __getattribute__ allows us to intercept all attribute accesses and customize them as needed.\n",
    "In summary, the main difference is that __getattr__ is called only when the attribute is not found, while __getattribute__ is called for every attribute access. __getattribute__ provides more control but requires careful implementation to avoid unintended consequences."
   ]
  },
  {
   "cell_type": "code",
   "execution_count": null,
   "id": "04af6af6-baa5-4870-8f23-fc3e0fc5d4d6",
   "metadata": {},
   "outputs": [],
   "source": [
    "Q2. What is the difference between properties and descriptors?"
   ]
  },
  {
   "cell_type": "code",
   "execution_count": null,
   "id": "be9f83a8-351c-49da-94d0-ecc26014baa3",
   "metadata": {},
   "outputs": [],
   "source": [
    "#Solution:\n",
    "Properties and descriptors are both mechanisms in Python that allow us to control access to an object's attributes. However, they have some differences in terms of their implementation and use cases:\n",
    "\n",
    "1. Properties:\n",
    "- Implementation: Properties are implemented using the property built-in function. They allow us to define getter, setter, and deleter methods for an attribute, making it possible to control access and modification.\n",
    "class MyClass:\n",
    "    def __init__(self):\n",
    "        self._x = None\n",
    "\n",
    "    @property\n",
    "    def x(self):\n",
    "        return self._x\n",
    "\n",
    "    @x.setter\n",
    "    def x(self, value):\n",
    "        self._x = value\n",
    "\n",
    "- Use Case: Properties are often used when we want to add simple access control or computation to attribute access. They are easy to use and suitable for most scenarios.\n",
    "\n",
    "2. Descriptors:\n",
    "- Implementation: Descriptors are a more general mechanism. A descriptor is an object with methods like __get__, __set__, and __delete__. It allows us to customize the behavior of attribute access at a lower level than properties.\n",
    "class Descriptor:\n",
    "    def __get__(self, instance, owner):\n",
    "        return instance._x\n",
    "\n",
    "    def __set__(self, instance, value):\n",
    "        instance._x = value\n",
    "\n",
    "class MyClass:\n",
    "    def __init__(self):\n",
    "        self._x = None\n",
    "        self.x = Descriptor()\n",
    "\n",
    "- Use Case: Descriptors are more powerful than properties and are suitable for cases where we need fine-grained control over attribute access, or when we want to reuse the same descriptor across multiple classes.\n",
    "In summary, properties provide a convenient syntax for defining simple access control, while descriptors offer a more powerful and flexible mechanism for customizing attribute access at a lower level. The choice between them depends on the specific requirements of our use case."
   ]
  },
  {
   "cell_type": "code",
   "execution_count": null,
   "id": "d6abe08e-d017-43c1-b2fc-15e8f7bc290e",
   "metadata": {},
   "outputs": [],
   "source": [
    "Q3. What are the key differences in functionality between __getattr__ and __getattribute__, as well as properties and descriptors?"
   ]
  },
  {
   "cell_type": "code",
   "execution_count": null,
   "id": "5d0dfd71-1d1c-43dc-82af-78e09076dc84",
   "metadata": {},
   "outputs": [],
   "source": [
    "#Solution:\n",
    "* Differences between __getattr__ and __getattribute__:\n",
    "1. Triggering Condition:\n",
    "- __getattribute__: Called for every attribute access, whether the attribute exists or not.\n",
    "- __getattr__: Called only when the requested attribute is not found using the usual methods.\n",
    "\n",
    "2. Use Case:\n",
    "- __getattribute__: Useful for intercepting all attribute accesses and customizing behavior based on the attribute name.\n",
    "- __getattr__: Useful for handling attribute access only when the attribute is not present in the usual way.\n",
    "\n",
    "3. Fallback Mechanism:\n",
    "- __getattribute__: Does not have a straightforward way to provide a default or fallback behavior for attribute access. Care must be taken to avoid infinite recursion.\n",
    "- __getattr__: Can provide a default or fallback behavior for attributes that are not found.\n",
    "\n",
    "* Differences between Properties and Descriptors:\n",
    "1. Syntax:\n",
    "- Properties use the property built-in function and decorators (@property, @<property>.setter, etc.) for a concise syntax.\n",
    "- Descriptors require defining a separate descriptor class with __get__, __set__, and __delete__ methods.\n",
    "\n",
    "2. Control Level:\n",
    "- Properties provide a high-level and convenient way to control attribute access with getter, setter, and deleter methods.\n",
    "- Descriptors offer a lower-level mechanism with more control over the attribute access process.\n",
    "\n",
    "3. Use Cases:\n",
    "- Properties are suitable for simple cases where we want to add computed or controlled access to an attribute.\n",
    "- Descriptors are more powerful and are suitable for cases where we need fine-grained control over attribute access, and the same descriptor can be reused across multiple classes.\n",
    "\n",
    "4. Access Control:\n",
    "- Properties provide a way to control access, modification, and deletion of attributes.\n",
    "- Descriptors allow more control over the entire process of attribute access, including setting and deleting.\n",
    "In summary, __getattribute__ and __getattr__ differ in when they are called and their use cases, while properties and descriptors differ in syntax, control level, and use cases. Choosing between them depends on the specific requirements and complexity of your use case.\n",
    "\n",
    "\n",
    "\n",
    "\n",
    "\n",
    "\n"
   ]
  }
 ],
 "metadata": {
  "kernelspec": {
   "display_name": "Python 3 (ipykernel)",
   "language": "python",
   "name": "python3"
  },
  "language_info": {
   "codemirror_mode": {
    "name": "ipython",
    "version": 3
   },
   "file_extension": ".py",
   "mimetype": "text/x-python",
   "name": "python",
   "nbconvert_exporter": "python",
   "pygments_lexer": "ipython3",
   "version": "3.10.6"
  }
 },
 "nbformat": 4,
 "nbformat_minor": 5
}
