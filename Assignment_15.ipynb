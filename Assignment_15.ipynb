{
 "cells": [
  {
   "cell_type": "markdown",
   "id": "0cdc6190-882a-4b8e-ae89-dfda87c34f0a",
   "metadata": {},
   "source": [
    "## Assignment_15"
   ]
  },
  {
   "cell_type": "code",
   "execution_count": null,
   "id": "c2afa538-47c9-4880-9719-d3c3ca1b956e",
   "metadata": {},
   "outputs": [],
   "source": [
    "1. What are the new features added in Python 3.8 version?"
   ]
  },
  {
   "cell_type": "code",
   "execution_count": null,
   "id": "1d88676b-c179-4568-9ab2-b812e81e34ce",
   "metadata": {},
   "outputs": [],
   "source": [
    "#Solution:\n",
    "Python 3.8 introduced several new features and improvements. Some notable additions in Python 3.8 include:\n",
    "1. Assignment Expressions (The Walrus Operator :=):\n",
    "-Introduces the walrus operator (:=), allowing us to assign values to variables as part of an expression.\n",
    "Example:\n",
    "# Before Python 3.8\n",
    "if len(data) > 10:\n",
    "    count = len(data)\n",
    "else:\n",
    "    count = 0\n",
    "\n",
    "# With the Walrus operator in Python 3.8\n",
    "if (count := len(data)) > 10:\n",
    "    # count is assigned the value of len(data) and used in the condition\n",
    "\n",
    "2. Positional-Only Parameters:\n",
    "-Function parameters can now be marked as positional-only using the / symbol in the function signature. This restricts how arguments are passed to those parameters.\n",
    "def example(a, b, /, c, d):\n",
    "    print(a, b, c, d)\n",
    "\n",
    "# Call the function with positional arguments only\n",
    "example(1, 2, 3, 4)\n",
    "\n",
    "3. f-strings Support \"=\" for Self-documenting Expressions:\n",
    "-f-strings now support the = character to help debug and understand expressions by printing both the expression and its value.\n",
    "name = \"Alice\"\n",
    "print(f\"{name = }\")  # Outputs: name = 'Alice'\n",
    "\n",
    "4. The math.prod() Function:\n",
    "-The math module now includes a prod() function that calculates the product of all the elements in an iterable.\n",
    "import math\n",
    "\n",
    "result = math.prod([2, 3, 4])\n",
    "print(result)  # Outputs: 24\n",
    "\n",
    "5. Syntax Warnings:\n",
    "- Python 3.8 introduces a new SyntaxWarning subclass called DeprecationWarning. This helps in distinguishing between syntax warnings that indicate deprecated features and other syntax warnings.\n",
    "import warnings\n",
    "\n",
    "warnings.warn(\"deprecated\", DeprecationWarning)\n",
    "\n",
    "6.f-strings Debug (=) and __future__ Import:\n",
    "-We can use f-strings for debugging by using the = operator within the f-string. Additionally, the __future__ import is no longer required for using new syntax features. \n",
    "# No need for __future__ import\n",
    "from __future__ import annotations\n",
    "\n",
    "x = 42\n",
    "print(f\"The answer is {x = }\")  # Outputs: The answer is x = 42"
   ]
  },
  {
   "cell_type": "code",
   "execution_count": null,
   "id": "04af6af6-baa5-4870-8f23-fc3e0fc5d4d6",
   "metadata": {},
   "outputs": [],
   "source": [
    "2. What is monkey patching in Python?"
   ]
  },
  {
   "cell_type": "code",
   "execution_count": null,
   "id": "9a637887-8542-4b75-94c2-c010c3efdc20",
   "metadata": {},
   "outputs": [],
   "source": [
    "#Solution:\n",
    "Monkey patching in Python refers to the dynamic modification of a class or module at runtime. It involves altering or extending the behavior of existing classes or modules without modifying their source code. Monkey patching is often used to fix bugs, add new functionality, or modify the behavior of third-party libraries when we don't have access to the source code.\n",
    "Here's an overview of how monkey patching is typically done:\n",
    "1. Dynamically Altering Code:\n",
    "- Monkey patching involves making changes to a class or module's behavior during runtime. This is done by adding, modifying, or replacing methods, functions, or attributes at runtime.\n",
    "2. Common Use Cases:\n",
    "- Bug Fixes: Patching code to fix a bug in a third-party library or module without waiting for an official release.\n",
    "- Feature Addition: Adding new features or methods to existing classes or modules.\n",
    "- Behavior Modification: Changing the behavior of certain functions or methods to better suit specific requirements.\n",
    "3. Example of Monkey Patching:\n",
    "- Let's say we have a class with a method original_method, and we want to change its behavior dynamically. We can achieve this by defining a new method and assigning it to the class.\n",
    "class MyClass:\n",
    "    def original_method(self):\n",
    "        return \"Original behavior\"\n",
    "\n",
    "# Monkey patching: Dynamically changing the behavior of original_method\n",
    "def new_method(self):\n",
    "    return \"Patched behavior\"\n",
    "\n",
    "# Assigning the new method to the class\n",
    "MyClass.original_method = new_method\n",
    "\n",
    "obj = MyClass()\n",
    "print(obj.original_method())  # Outputs: Patched behavior\n",
    "\n",
    "4. Considerations:\n",
    "- While monkey patching can be a powerful tool, it should be used with caution. It can make code harder to understand, maintain, and debug.\n",
    "Monkey patching is often seen as a last resort when other solutions (e.g., subclassing, composition) are not feasible.\n",
    "\n",
    "5. Alternatives:\n",
    "- Before resorting to monkey patching, consider other alternatives such as subclassing, composition, or using hooks and callbacks if the library or module provides them. These approaches can lead to cleaner and more maintainable code.\n",
    "\n",
    "6. Documentation and Testing:\n",
    "If monkey patching is used, it's important to document the changes thoroughly. Additionally, comprehensive testing should be performed to ensure that the patched code behaves as expected.\n",
    "\n",
    "In summary, monkey patching in Python involves dynamically modifying the behavior of classes or modules at runtime. While it can be a useful technique in certain situations, it should be approached with care, and alternatives should be considered first."
   ]
  },
  {
   "cell_type": "code",
   "execution_count": null,
   "id": "d6abe08e-d017-43c1-b2fc-15e8f7bc290e",
   "metadata": {},
   "outputs": [],
   "source": [
    "3. What is the difference between a shallow copy and deep copy?"
   ]
  },
  {
   "cell_type": "code",
   "execution_count": null,
   "id": "95eacf9d-cccf-47ad-b3e4-6acf08bcbc75",
   "metadata": {},
   "outputs": [],
   "source": [
    "#Solution:\n",
    "The difference between a shallow copy and a deep copy lies in how they duplicate objects containing nested structures like lists or dictionaries.\n",
    "1. Shallow Copy:\n",
    "- A shallow copy creates a new object, but it does not create copies of nested objects. Instead, it copies references to the nested objects. Changes made to the nested objects in the copied structure will be reflected in the original structure, and vice versa.\n",
    "\n",
    "import copy\n",
    "\n",
    "original_list = [1, [2, 3], [4, 5]]\n",
    "shallow_copied_list = copy.copy(original_list)\n",
    "\n",
    "# Both lists share the same nested list\n",
    "shallow_copied_list[1][0] = 'X'\n",
    "print(original_list)  # Outputs: [1, ['X', 3], [4, 5]]\n",
    "\n",
    "In the example above, modifying the nested list in shallow_copied_list also affects the original list.\n",
    "\n",
    "2. Deep Copy:\n",
    "- A deep copy, on the other hand, creates a new object and recursively creates copies of all nested objects within the original structure. Changes made to the nested objects in the copied structure do not affect the original structure, and vice versa.\n",
    "\n",
    "import copy\n",
    "\n",
    "original_list = [1, [2, 3], [4, 5]]\n",
    "deep_copied_list = copy.deepcopy(original_list)\n",
    "\n",
    "# Modifying the nested list in the copied structure does not affect the original list\n",
    "deep_copied_list[1][0] = 'Y'\n",
    "print(original_list)  # Outputs: [1, [2, 3], [4, 5]]\n",
    "\n",
    "In this example, the modification to the nested list in deep_copied_list does not impact the original list."
   ]
  },
  {
   "cell_type": "code",
   "execution_count": null,
   "id": "30909c4a-729d-4e0c-bd43-7e976a4dce63",
   "metadata": {},
   "outputs": [],
   "source": [
    "4. What is the maximum possible length of an identifier?"
   ]
  },
  {
   "cell_type": "code",
   "execution_count": null,
   "id": "1eb8ed5b-f993-4c53-b3d5-07bede55ffee",
   "metadata": {},
   "outputs": [],
   "source": [
    "#Solution:\n",
    "The maximum length of an identifier in Python is not explicitly defined and is practically unlimited, but it is advisable to keep identifiers reasonably short for the sake of code readability and adherence to best practices."
   ]
  },
  {
   "cell_type": "code",
   "execution_count": null,
   "id": "ac786760-b777-4ce1-bdfe-e93b1d903140",
   "metadata": {},
   "outputs": [],
   "source": [
    "5. What is generator comprehension?"
   ]
  },
  {
   "cell_type": "code",
   "execution_count": null,
   "id": "3086833b-c9e2-4da9-a770-f8f96dea83b8",
   "metadata": {},
   "outputs": [],
   "source": [
    "#Solution:\n",
    "Generator comprehension in Python is a concise way to create generators. It is similar to list comprehension but uses parentheses () instead of square brackets []. The primary advantage of using generator comprehensions over list comprehensions is that they create generators, which are memory-efficient and produce values lazily.\n",
    "Here is the general syntax for a generator comprehension:\n",
    "\n",
    "expression for item in iterable if condition\n",
    "\n",
    "- expression: The value to be yielded in each iteration.\n",
    "- item: The variable that takes on values from the iterable.\n",
    "- iterable: The sequence of values to iterate over.\n",
    "- condition (optional): An optional condition that filters which values are included.\n",
    "\n",
    "The result is a generator object, and values are generated one at a time, on-demand, as opposed to creating an entire list in memory.\n",
    "\n",
    "Here's an example to illustrate the syntax:\n",
    "\n",
    "# List comprehension\n",
    "squares_list = [x**2 for x in range(5)]\n",
    "\n",
    "# Generator comprehension\n",
    "squares_generator = (x**2 for x in range(5))\n",
    "\n",
    "In the above example, squares_list is a list containing the squares of numbers from 0 to 4, while squares_generator is a generator producing the same squares but without creating a list in memory.\n",
    "Generator comprehensions are particularly useful when working with large datasets or when we want to iterate over a sequence of values lazily, without the need to store all values in memory at once.\n",
    "\n",
    "Here's an example using a generator comprehension with a condition:\n",
    "\n",
    "# Generator comprehension with condition\n",
    "even_squares_generator = (x**2 for x in range(10) if x % 2 == 0)\n",
    "\n",
    "In this example, even_squares_generator generates the squares of even numbers from 0 to 9."
   ]
  }
 ],
 "metadata": {
  "kernelspec": {
   "display_name": "Python 3 (ipykernel)",
   "language": "python",
   "name": "python3"
  },
  "language_info": {
   "codemirror_mode": {
    "name": "ipython",
    "version": 3
   },
   "file_extension": ".py",
   "mimetype": "text/x-python",
   "name": "python",
   "nbconvert_exporter": "python",
   "pygments_lexer": "ipython3",
   "version": "3.10.6"
  }
 },
 "nbformat": 4,
 "nbformat_minor": 5
}
